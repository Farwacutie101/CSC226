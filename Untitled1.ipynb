{
  "nbformat": 4,
  "nbformat_minor": 0,
  "metadata": {
    "colab": {
      "provenance": [],
      "authorship_tag": "ABX9TyP9cDablG892af//5d84Voo",
      "include_colab_link": true
    },
    "kernelspec": {
      "name": "python3",
      "display_name": "Python 3"
    },
    "language_info": {
      "name": "python"
    }
  },
  "cells": [
    {
      "cell_type": "markdown",
      "metadata": {
        "id": "view-in-github",
        "colab_type": "text"
      },
      "source": [
        "<a href=\"https://colab.research.google.com/github/Farwacutie101/CSC226/blob/main/Untitled1.ipynb\" target=\"_parent\"><img src=\"https://colab.research.google.com/assets/colab-badge.svg\" alt=\"Open In Colab\"/></a>"
      ]
    },
    {
      "cell_type": "code",
      "execution_count": null,
      "metadata": {
        "colab": {
          "base_uri": "https://localhost:8080/"
        },
        "id": "6luyQTWW17dN",
        "outputId": "2ba4707e-82e6-40d2-d880-bc2c36e1de1d"
      },
      "outputs": [
        {
          "output_type": "stream",
          "name": "stdout",
          "text": [
            "Doorbell rang! (Press Enter to acknowledge)3\n",
            "Ring count: 1\n"
          ]
        }
      ],
      "source": [
        "import time\n",
        "\n",
        "def security_door():\n",
        "    \"\"\"Simulates a security system that opens the door after 5 rings.\"\"\"\n",
        "\n",
        "    ring_count = 0\n",
        "    while ring_count < 5:\n",
        "        input(\"Doorbell rang! (Press Enter to acknowledge)\")  # Simulate a doorbell ring\n",
        "        ring_count += 1\n",
        "        print(f\"Ring count: {ring_count}\")\n",
        "        time.sleep(1) # simulate time between rings.\n",
        "\n",
        "    print(\"Door opening...\")\n",
        "    # Simulate door opening action (e.g., triggering a relay)\n",
        "    print(\"Door opened.\")\n",
        "\n",
        "security_door()"
      ]
    }
  ]
}